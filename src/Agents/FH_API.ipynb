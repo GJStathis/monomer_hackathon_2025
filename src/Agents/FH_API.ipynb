{
 "cells": [
  {
   "cell_type": "code",
   "execution_count": 1,
   "id": "deb9906f",
   "metadata": {},
   "outputs": [],
   "source": [
    "targets = ['Vibrio natriegens']"
   ]
  },
  {
   "cell_type": "code",
   "execution_count": 2,
   "id": "9eba75d1",
   "metadata": {},
   "outputs": [],
   "source": [
    "from futurehouse_client import FutureHouseClient, JobNames\n",
    "from futurehouse_client.models import (\n",
    "    RuntimeConfig,\n",
    "    TaskRequest,\n",
    ")\n",
    "from ldp.agent import AgentConfig\n",
    "import os"
   ]
  },
  {
   "cell_type": "code",
   "execution_count": null,
   "id": "aa2bab09",
   "metadata": {},
   "outputs": [
    {
     "name": "stdout",
     "output_type": "stream",
     "text": [
      "FutureHouse API key: +sZzOaCmRpAjIhyV8fFmcg.platformv01.eyJqdGkiOiJkNDgyM2JhMy1lZGY1LTQwMDUtYWM5NC05ODdiMDFhM2ViZGQiLCJzdWIiOiJPNnhZbE03TlVrYm1mczFVc09QbDBZTGNxcTAzIiwiaWF0IjoxNzYxNDYwMjIwLCJleHAiOjE3NjQwNTIyMjB9.dlkXYDlLP/Aq0ISqEHwDa5SVwtseoxwBx7l7cip4AHk\n"
     ]
    }
   ],
   "source": [
    "from dotenv import load_dotenv\n",
    "import os\n",
    "\n",
    "# Load variables from .env file\n",
    "load_dotenv()\n",
    "\n",
    "# Access them\n",
    "futurehouse_api_key = os.getenv(\"API_KEY_FUTUREHOUSE\")\n",
    "\n"
   ]
  },
  {
   "cell_type": "code",
   "execution_count": 4,
   "id": "95f00772",
   "metadata": {},
   "outputs": [],
   "source": [
    "client = FutureHouseClient(\n",
    "    api_key=futurehouse_api_key)"
   ]
  },
  {
   "cell_type": "code",
   "execution_count": 5,
   "id": "2f19b57b",
   "metadata": {},
   "outputs": [
    {
     "name": "stdout",
     "output_type": "stream",
     "text": [
      "Job status: success\n",
      "Job answer: \n",
      "Question: Find documentation useful for crafting protocols to grow the highest yield of Vibrio natriegens\n",
      "\n",
      "Protocols for achieving the highest yield of Vibrio natriegens rely on integrating controlled fed-batch cultivation with optimized medium composition and operating conditions. Fed-batch strategies using glucose-limited feeding have demonstrated biomass concentrations of up to 55 g/L in only 12 hours, with key parameters such as operating temperature maintained at 30 °C and sodium chloride levels adjusted (1.5–2.5%) to minimize by-product formation and optimize growth rates (thiele2021highcelldensityfedbatchcultivations pages 1-3, thiele2021highcelldensityfedbatchcultivations pages 10-11, thiele2021highcelldensityfedbatchcultivations pages 3-5).\n",
      "\n",
      "Chemically defined media have been developed that substitute standard NaCl formulations with alternative sodium salts, thereby preventing precipitation and corrosion issues while maintaining high growth rates through controlled ammonium and phosphate levels (biener2023highcelldensitycultivationof pages 9-11, biener2023highcelldensitycultivationof pages 1-2). Additionally, precise control of pH, utilizing buffering systems such as MOPS at around pH 8.0, and maintaining sodium chloride concentrations in the 7.5–15 g/L range are crucial to achieving optimal osmolality and high growth rates (forsten2024unravelingtheimpact pages 1-2, thoma2021metabolicengineeringof pages 1-3).\n",
      "\n",
      "Furthermore, cultivation protocols in LB media with 2.5% NaCl at pH 7.0–8.5 and 37 °C enable extremely rapid doubling times (approximately 13.6 minutes) during the mid-log phase, furnishing a reliable baseline for laboratory-scale applications (orencik2019ananalysisand pages 1-5, orencik2019ananalysisand pages 10-15).\n",
      "\n",
      "Effective high-yield cultivation thus requires combining optimized fed-batch feeding, refined chemically defined or complex media formulations, and stringent control of pH, temperature, and salt concentration. This documentation collectively provides a comprehensive framework for designing protocols that maximize V. natriegens productivity.\n",
      "\n",
      "References\n",
      "\n",
      "1. (thiele2021highcelldensityfedbatchcultivations pages 1-3): Isabel Thiele, Björn Gutschmann, Linus Aulich, Marcel Girard, Peter Neubauer, and Sebastian L. Riedel. High-cell-density fed-batch cultivations of vibrio natriegens. Biotechnology Letters, 43:1723-1733, May 2021. URL: https://doi.org/10.1007/s10529-021-03147-5, doi:10.1007/s10529-021-03147-5. This article has 22 citations and is from a peer-reviewed journal.\n",
      "\n",
      "2. (thiele2021highcelldensityfedbatchcultivations pages 10-11): Isabel Thiele, Björn Gutschmann, Linus Aulich, Marcel Girard, Peter Neubauer, and Sebastian L. Riedel. High-cell-density fed-batch cultivations of vibrio natriegens. Biotechnology Letters, 43:1723-1733, May 2021. URL: https://doi.org/10.1007/s10529-021-03147-5, doi:10.1007/s10529-021-03147-5. This article has 22 citations and is from a peer-reviewed journal.\n",
      "\n",
      "3. (thiele2021highcelldensityfedbatchcultivations pages 3-5): Isabel Thiele, Björn Gutschmann, Linus Aulich, Marcel Girard, Peter Neubauer, and Sebastian L. Riedel. High-cell-density fed-batch cultivations of vibrio natriegens. Biotechnology Letters, 43:1723-1733, May 2021. URL: https://doi.org/10.1007/s10529-021-03147-5, doi:10.1007/s10529-021-03147-5. This article has 22 citations and is from a peer-reviewed journal.\n",
      "\n",
      "4. (biener2023highcelldensitycultivationof pages 9-11): Richard Biener, Thomas Horn, Alexander Komitakis, Ines Schendel, Leon König, Anna Hauenstein, Alina Ludl, Andrea Speidel, Svenja Schmid, Julian Weißer, Max Broßmann, Sofia Kern, Max Kronmüller, Sonja Vierkorn, Lennart Suckow, and Arthur Braun. High-cell-density cultivation of vibrio natriegens in a low-chloride chemically defined medium. Applied Microbiology and Biotechnology, 107:7043-7054, Sep 2023. URL: https://doi.org/10.1007/s00253-023-12799-4, doi:10.1007/s00253-023-12799-4. This article has 13 citations and is from a domain leading peer-reviewed journal.\n",
      "\n",
      "5. (biener2023highcelldensitycultivationof pages 1-2): Richard Biener, Thomas Horn, Alexander Komitakis, Ines Schendel, Leon König, Anna Hauenstein, Alina Ludl, Andrea Speidel, Svenja Schmid, Julian Weißer, Max Broßmann, Sofia Kern, Max Kronmüller, Sonja Vierkorn, Lennart Suckow, and Arthur Braun. High-cell-density cultivation of vibrio natriegens in a low-chloride chemically defined medium. Applied Microbiology and Biotechnology, 107:7043-7054, Sep 2023. URL: https://doi.org/10.1007/s00253-023-12799-4, doi:10.1007/s00253-023-12799-4. This article has 13 citations and is from a domain leading peer-reviewed journal.\n",
      "\n",
      "6. (forsten2024unravelingtheimpact pages 1-2): Eva Forsten, Steffen Gerdes, René Petri, Jochen Büchs, and Jørgen Magnus. Unraveling the impact of ph, sodium concentration, and medium osmolality on vibrio natriegens in batch processes. BMC Biotechnology, Sep 2024. URL: https://doi.org/10.1186/s12896-024-00897-8, doi:10.1186/s12896-024-00897-8. This article has 9 citations and is from a peer-reviewed journal.\n",
      "\n",
      "7. (thoma2021metabolicengineeringof pages 1-3): Felix Thoma and Bastian Blombach. Metabolic engineering of <i>vibrio natriegens</i>. Essays in Biochemistry, 65:381-392, Jul 2021. URL: https://doi.org/10.1042/ebc20200135, doi:10.1042/ebc20200135. This article has 73 citations and is from a peer-reviewed journal.\n",
      "\n",
      "8. (orencik2019ananalysisand pages 1-5): Celine Örencik, Sara Müller, Thomas Kirner, and Egon Amann. An analysis and optimization of growth condition requirements of the fast-growing bacterium<i>vibrio natriegens</i>. ArXiv, Sep 2019. URL: https://doi.org/10.1101/775437, doi:10.1101/775437. This article has 1 citations.\n",
      "\n",
      "9. (orencik2019ananalysisand pages 10-15): Celine Örencik, Sara Müller, Thomas Kirner, and Egon Amann. An analysis and optimization of growth condition requirements of the fast-growing bacterium<i>vibrio natriegens</i>. ArXiv, Sep 2019. URL: https://doi.org/10.1101/775437, doi:10.1101/775437. This article has 1 citations.\n",
      "\n"
     ]
    }
   ],
   "source": [
    "task_requests = [\n",
    "    TaskRequest(\n",
    "        name=JobNames.from_string(\"crow\"),\n",
    "        query=f\"Find documentation useful for crafting protocols to grow the highest yield of {organism}\"\n",
    "    )\n",
    "    for organism in targets\n",
    "]\n",
    "\n",
    "responses = client.run_tasks_until_done(task_requests)\n",
    "task_response = responses[0]\n",
    "\n",
    "print(f\"Job status: {task_response.status}\")\n",
    "print(f\"Job answer: \\n{task_response.formatted_answer}\")"
   ]
  },
  {
   "cell_type": "code",
   "execution_count": null,
   "id": "cb00eb91",
   "metadata": {},
   "outputs": [],
   "source": []
  }
 ],
 "metadata": {
  "kernelspec": {
   "display_name": ".venv",
   "language": "python",
   "name": "python3"
  },
  "language_info": {
   "codemirror_mode": {
    "name": "ipython",
    "version": 3
   },
   "file_extension": ".py",
   "mimetype": "text/x-python",
   "name": "python",
   "nbconvert_exporter": "python",
   "pygments_lexer": "ipython3",
   "version": "3.12.3"
  }
 },
 "nbformat": 4,
 "nbformat_minor": 5
}
