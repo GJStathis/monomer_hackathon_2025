{
 "cells": [
  {
   "cell_type": "code",
   "execution_count": 4,
   "id": "502296ca",
   "metadata": {},
   "outputs": [],
   "source": [
    "organism_name = \"Vibrio natriegens\""
   ]
  },
  {
   "cell_type": "code",
   "execution_count": 5,
   "id": "c86ffe2b",
   "metadata": {},
   "outputs": [
    {
     "name": "stdout",
     "output_type": "stream",
     "text": [
      "Fetching 16S rRNA sequence for Vibrio natriegens...\n",
      "Running BLAST (excluding Escherichia coli)...\n",
      "\n",
      "Top genetically related distinct species (excluding E. coli):\n",
      "\n",
      "Vibrio natriegens\n",
      "  Identity: 100.00% | Score: 2814.0 | Length: 1407\n",
      "\n",
      "Vibrio parahaemolyticus\n",
      "  Identity: 100.00% | Score: 2814.0 | Length: 1407\n",
      "\n",
      "Vibrio chemaguriensis\n",
      "  Identity: 99.93% | Score: 2805.0 | Length: 1407\n",
      "\n",
      "Vibrio sp.\n",
      "  Identity: 99.93% | Score: 2805.0 | Length: 1407\n",
      "\n",
      "Uncultured bacterium\n",
      "  Identity: 99.36% | Score: 2749.0 | Length: 1411\n",
      "\n",
      "Vibrio campbellii\n",
      "  Identity: 99.00% | Score: 2744.0 | Length: 1407\n",
      "\n",
      "Mutant Vibrio\n",
      "  Identity: 99.00% | Score: 2744.0 | Length: 1407\n",
      "\n",
      "Vibrio alginolyticus\n",
      "  Identity: 98.93% | Score: 2739.0 | Length: 1407\n",
      "\n",
      "MAG: Vibrio\n",
      "  Identity: 98.93% | Score: 2739.0 | Length: 1407\n",
      "\n",
      "MAG: uncultured\n",
      "  Identity: 98.93% | Score: 2739.0 | Length: 1407\n",
      "\n"
     ]
    }
   ],
   "source": [
    "from Bio import Entrez\n",
    "from Bio.Blast import NCBIWWW, NCBIXML\n",
    "\n",
    "Entrez.email = \"your.email@example.com\"  # Required by NCBI\n",
    "\n",
    "\n",
    "\n",
    "# Step 1: Get a representative 16S rRNA sequence for E. coli\n",
    "print(f\"Fetching 16S rRNA sequence for {organism_name}...\")\n",
    "search = Entrez.esearch(db=\"nucleotide\", term=f\"{organism_name}[Organism] AND 16S ribosomal RNA[Title]\", retmax=1)\n",
    "record = Entrez.read(search)\n",
    "seq_id = record[\"IdList\"][0]\n",
    "\n",
    "fasta = Entrez.efetch(db=\"nucleotide\", id=seq_id, rettype=\"fasta\", retmode=\"text\").read()\n",
    "\n",
    "# Step 2: Run BLAST against nt database, excluding E. coli\n",
    "print(\"Running BLAST (excluding Escherichia coli)...\")\n",
    "result_handle = NCBIWWW.qblast(\n",
    "    program=\"blastn\",\n",
    "    database=\"nt\",\n",
    "    sequence=fasta,\n",
    "    entrez_query=\"NOT Escherichia coli[Organism]\",\n",
    "    hitlist_size=100  # get many results so we can deduplicate\n",
    ")\n",
    "\n",
    "# Step 3: Parse BLAST results\n",
    "blast_record = next(NCBIXML.parse(result_handle))\n",
    "\n",
    "unique_species = {}\n",
    "for alignment in blast_record.alignments:\n",
    "    title = alignment.hit_def\n",
    "    hsp = alignment.hsps[0]\n",
    "    identity = (hsp.identities / hsp.align_length) * 100\n",
    "    score = hsp.score\n",
    "\n",
    "    # Extract species name (usually first two words of the title)\n",
    "    parts = title.split()\n",
    "    if len(parts) >= 2:\n",
    "        species_name = \" \".join(parts[:2])\n",
    "    else:\n",
    "        continue\n",
    "\n",
    "    # Skip if it's E. coli or already recorded\n",
    "    if \"Escherichia coli\" in species_name or species_name in unique_species:\n",
    "        continue\n",
    "\n",
    "    # Keep best (highest score) alignment per unique species\n",
    "    unique_species[species_name] = {\n",
    "        \"title\": title,\n",
    "        \"score\": score,\n",
    "        \"identity\": identity,\n",
    "        \"align_length\": hsp.align_length\n",
    "    }\n",
    "\n",
    "# Step 4: Sort by similarity (descending)\n",
    "sorted_species = sorted(unique_species.items(), key=lambda x: x[1][\"identity\"], reverse=True)\n",
    "\n",
    "print(\"\\nTop genetically related distinct species (excluding E. coli):\\n\")\n",
    "for species, data in sorted_species[:10]:\n",
    "    print(f\"{species}\\n  Identity: {data['identity']:.2f}% | Score: {data['score']} | Length: {data['align_length']}\\n\")\n"
   ]
  },
  {
   "cell_type": "code",
   "execution_count": 6,
   "id": "9619e716",
   "metadata": {},
   "outputs": [
    {
     "name": "stdout",
     "output_type": "stream",
     "text": [
      "Original species count: 13\n",
      "Filtered species count: 11\n",
      "\n",
      "Top genetically related distinct species (filtered):\n",
      "\n",
      "Vibrio natriegens\n",
      "  Identity: 100.00% | Score: 2814.0 | Length: 1407\n",
      "\n",
      "Vibrio parahaemolyticus\n",
      "  Identity: 100.00% | Score: 2814.0 | Length: 1407\n",
      "\n",
      "Vibrio chemaguriensis\n",
      "  Identity: 99.93% | Score: 2805.0 | Length: 1407\n",
      "\n",
      "Vibrio campbellii\n",
      "  Identity: 99.00% | Score: 2744.0 | Length: 1407\n",
      "\n",
      "Mutant Vibrio\n",
      "  Identity: 99.00% | Score: 2744.0 | Length: 1407\n",
      "\n",
      "Vibrio alginolyticus\n",
      "  Identity: 98.93% | Score: 2739.0 | Length: 1407\n",
      "\n",
      "MAG: Vibrio\n",
      "  Identity: 98.93% | Score: 2739.0 | Length: 1407\n",
      "\n",
      "MAG: uncultured\n",
      "  Identity: 98.93% | Score: 2739.0 | Length: 1407\n",
      "\n",
      "Bacterium ST4\n",
      "  Identity: 98.86% | Score: 2734.0 | Length: 1407\n",
      "\n",
      "Vibrio neocaledonicus\n",
      "  Identity: 98.86% | Score: 2734.0 | Length: 1407\n",
      "\n"
     ]
    }
   ],
   "source": [
    "# Filter out 'Uncultured bacterium' and entries with 'sp.'\n",
    "filtered_species = {}\n",
    "for species, data in unique_species.items():\n",
    "    # Skip if it contains 'Uncultured' (includes 'Uncultured bacterium', 'Uncultured prokaryote', etc.)\n",
    "    if 'Uncultured' in species:\n",
    "        continue\n",
    "    # Skip if it ends with 'sp.' (e.g., \"Shigella sp.\", \"Escherichia sp.\")\n",
    "    if species.endswith('sp.'):\n",
    "        continue\n",
    "    # Skip if it contains ' sp.'\n",
    "    if ' sp.' in species:\n",
    "        continue\n",
    "    # Keep the rest\n",
    "    filtered_species[species] = data\n",
    "\n",
    "# Sort by similarity (descending)\n",
    "sorted_filtered = sorted(filtered_species.items(), key=lambda x: x[1][\"identity\"], reverse=True)\n",
    "\n",
    "print(f\"Original species count: {len(unique_species)}\")\n",
    "print(f\"Filtered species count: {len(filtered_species)}\")\n",
    "print(f\"\\nTop genetically related distinct species (filtered):\\n\")\n",
    "for species, data in sorted_filtered[:10]:\n",
    "    print(f\"{species}\\n  Identity: {data['identity']:.2f}% | Score: {data['score']} | Length: {data['align_length']}\\n\")\n"
   ]
  },
  {
   "cell_type": "markdown",
   "id": "c3c01176",
   "metadata": {},
   "source": [
    "Creates a list (not a list) called sorted_filtered that has the closest related organisms"
   ]
  },
  {
   "cell_type": "code",
   "execution_count": 7,
   "id": "5d580602",
   "metadata": {},
   "outputs": [
    {
     "data": {
      "text/plain": [
       "[('Vibrio natriegens',\n",
       "  {'title': 'Vibrio natriegens strain 80980-3 16S ribosomal RNA gene, partial sequence',\n",
       "   'score': 2814.0,\n",
       "   'identity': 100.0,\n",
       "   'align_length': 1407}),\n",
       " ('Vibrio parahaemolyticus',\n",
       "  {'title': 'Vibrio parahaemolyticus strain FL1-6 16S ribosomal RNA gene, partial sequence',\n",
       "   'score': 2814.0,\n",
       "   'identity': 100.0,\n",
       "   'align_length': 1407}),\n",
       " ('Vibrio chemaguriensis',\n",
       "  {'title': 'Vibrio chemaguriensis strain Iso1 16S ribosomal RNA gene, partial sequence',\n",
       "   'score': 2805.0,\n",
       "   'identity': 99.92892679459844,\n",
       "   'align_length': 1407}),\n",
       " ('Vibrio campbellii',\n",
       "  {'title': 'Vibrio campbellii strain KJ-W18 16S ribosomal RNA gene, partial sequence',\n",
       "   'score': 2744.0,\n",
       "   'identity': 99.00497512437812,\n",
       "   'align_length': 1407}),\n",
       " ('Mutant Vibrio',\n",
       "  {'title': 'Mutant Vibrio natriegens strain Vmax chromosome 1, complete sequence',\n",
       "   'score': 2744.0,\n",
       "   'identity': 99.00497512437812,\n",
       "   'align_length': 1407}),\n",
       " ('Vibrio alginolyticus',\n",
       "  {'title': 'Vibrio alginolyticus strain FDAARGOS_110 chromosome 1, complete sequence',\n",
       "   'score': 2739.0,\n",
       "   'identity': 98.93390191897655,\n",
       "   'align_length': 1407}),\n",
       " ('MAG: Vibrio',\n",
       "  {'title': 'MAG: Vibrio natriegens isolate e1d56e9a-a7a1-4c7c-935c-dcf4550e6a0b genome assembly, chromosome: 1',\n",
       "   'score': 2739.0,\n",
       "   'identity': 98.93390191897655,\n",
       "   'align_length': 1407}),\n",
       " ('MAG: uncultured',\n",
       "  {'title': 'MAG: uncultured Vibrio sp. isolate f8bb6b20-83fe-4f6e-9783-af52d4577ce1 genome assembly, chromosome: 1',\n",
       "   'score': 2739.0,\n",
       "   'identity': 98.93390191897655,\n",
       "   'align_length': 1407}),\n",
       " ('Bacterium ST4',\n",
       "  {'title': 'Bacterium ST4 16S ribosomal RNA gene, partial sequence',\n",
       "   'score': 2734.0,\n",
       "   'identity': 98.86282871357498,\n",
       "   'align_length': 1407}),\n",
       " ('Vibrio neocaledonicus',\n",
       "  {'title': 'Vibrio neocaledonicus strain XTF-124 16S ribosomal RNA gene, partial sequence',\n",
       "   'score': 2734.0,\n",
       "   'identity': 98.86282871357498,\n",
       "   'align_length': 1407}),\n",
       " ('Bacterium JSB522',\n",
       "  {'title': 'Bacterium JSB522 16S ribosomal RNA gene, partial sequence',\n",
       "   'score': 2734.0,\n",
       "   'identity': 98.86282871357498,\n",
       "   'align_length': 1407})]"
      ]
     },
     "execution_count": 7,
     "metadata": {},
     "output_type": "execute_result"
    }
   ],
   "source": [
    "sorted_filtered"
   ]
  },
  {
   "cell_type": "code",
   "execution_count": 12,
   "id": "d6813c6a",
   "metadata": {},
   "outputs": [
    {
     "name": "stdout",
     "output_type": "stream",
     "text": [
      "\n",
      "Top 10 related organisms list: ['Vibrio natriegens', 'Vibrio parahaemolyticus', 'Vibrio chemaguriensis', 'Vibrio campbellii', 'Mutant Vibrio', 'Vibrio alginolyticus', 'MAG: Vibrio', 'MAG: uncultured', 'Bacterium ST4', 'Vibrio neocaledonicus']\n"
     ]
    }
   ],
   "source": [
    "# Create a list with the names of the 10 highest related organisms\n",
    "top_10_organisms = [species for species, data in sorted_filtered[:10]]\n",
    "print(f\"\\nTop 10 related organisms list: {top_10_organisms}\")"
   ]
  },
  {
   "cell_type": "code",
   "execution_count": 13,
   "id": "288b9bd8",
   "metadata": {},
   "outputs": [
    {
     "data": {
      "text/plain": [
       "['Vibrio natriegens',\n",
       " 'Vibrio parahaemolyticus',\n",
       " 'Vibrio chemaguriensis',\n",
       " 'Vibrio campbellii',\n",
       " 'Mutant Vibrio',\n",
       " 'Vibrio alginolyticus',\n",
       " 'MAG: Vibrio',\n",
       " 'MAG: uncultured',\n",
       " 'Bacterium ST4',\n",
       " 'Vibrio neocaledonicus']"
      ]
     },
     "execution_count": 13,
     "metadata": {},
     "output_type": "execute_result"
    }
   ],
   "source": [
    "top_10_organisms"
   ]
  },
  {
   "cell_type": "code",
   "execution_count": null,
   "id": "f198d334",
   "metadata": {},
   "outputs": [],
   "source": []
  }
 ],
 "metadata": {
  "kernelspec": {
   "display_name": ".venv",
   "language": "python",
   "name": "python3"
  },
  "language_info": {
   "codemirror_mode": {
    "name": "ipython",
    "version": 3
   },
   "file_extension": ".py",
   "mimetype": "text/x-python",
   "name": "python",
   "nbconvert_exporter": "python",
   "pygments_lexer": "ipython3",
   "version": "3.12.3"
  }
 },
 "nbformat": 4,
 "nbformat_minor": 5
}
